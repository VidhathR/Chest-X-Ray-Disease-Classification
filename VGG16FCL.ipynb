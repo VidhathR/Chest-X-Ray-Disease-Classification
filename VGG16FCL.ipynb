{
 "cells": [
  {
   "cell_type": "code",
   "execution_count": 1,
   "metadata": {},
   "outputs": [],
   "source": [
    "from tensorflow import keras\n",
    "datagen = keras.preprocessing.image.ImageDataGenerator(rescale=1 / 255.0,\n",
    "                                                       vertical_flip = True,\n",
    "                                                       horizontal_flip = True)"
   ]
  },
  {
   "cell_type": "code",
   "execution_count": 2,
   "metadata": {},
   "outputs": [
    {
     "name": "stdout",
     "output_type": "stream",
     "text": [
      "Model: \"vgg16\"\n",
      "_________________________________________________________________\n",
      " Layer (type)                Output Shape              Param #   \n",
      "=================================================================\n",
      " input_1 (InputLayer)        [(None, 224, 224, 3)]     0         \n",
      "                                                                 \n",
      " block1_conv1 (Conv2D)       (None, 224, 224, 64)      1792      \n",
      "                                                                 \n",
      " block1_conv2 (Conv2D)       (None, 224, 224, 64)      36928     \n",
      "                                                                 \n",
      " block1_pool (MaxPooling2D)  (None, 112, 112, 64)      0         \n",
      "                                                                 \n",
      " block2_conv1 (Conv2D)       (None, 112, 112, 128)     73856     \n",
      "                                                                 \n",
      " block2_conv2 (Conv2D)       (None, 112, 112, 128)     147584    \n",
      "                                                                 \n",
      " block2_pool (MaxPooling2D)  (None, 56, 56, 128)       0         \n",
      "                                                                 \n",
      " block3_conv1 (Conv2D)       (None, 56, 56, 256)       295168    \n",
      "                                                                 \n",
      " block3_conv2 (Conv2D)       (None, 56, 56, 256)       590080    \n",
      "                                                                 \n",
      " block3_conv3 (Conv2D)       (None, 56, 56, 256)       590080    \n",
      "                                                                 \n",
      " block3_pool (MaxPooling2D)  (None, 28, 28, 256)       0         \n",
      "                                                                 \n",
      " block4_conv1 (Conv2D)       (None, 28, 28, 512)       1180160   \n",
      "                                                                 \n",
      " block4_conv2 (Conv2D)       (None, 28, 28, 512)       2359808   \n",
      "                                                                 \n",
      " block4_conv3 (Conv2D)       (None, 28, 28, 512)       2359808   \n",
      "                                                                 \n",
      " block4_pool (MaxPooling2D)  (None, 14, 14, 512)       0         \n",
      "                                                                 \n",
      " block5_conv1 (Conv2D)       (None, 14, 14, 512)       2359808   \n",
      "                                                                 \n",
      " block5_conv2 (Conv2D)       (None, 14, 14, 512)       2359808   \n",
      "                                                                 \n",
      " block5_conv3 (Conv2D)       (None, 14, 14, 512)       2359808   \n",
      "                                                                 \n",
      " block5_pool (MaxPooling2D)  (None, 7, 7, 512)         0         \n",
      "                                                                 \n",
      " flatten (Flatten)           (None, 25088)             0         \n",
      "                                                                 \n",
      " fc1 (Dense)                 (None, 4096)              102764544 \n",
      "                                                                 \n",
      " fc2 (Dense)                 (None, 4096)              16781312  \n",
      "                                                                 \n",
      " predictions (Dense)         (None, 1000)              4097000   \n",
      "                                                                 \n",
      "=================================================================\n",
      "Total params: 138,357,544\n",
      "Trainable params: 138,357,544\n",
      "Non-trainable params: 0\n",
      "_________________________________________________________________\n"
     ]
    }
   ],
   "source": [
    "from keras.applications import VGG16\n",
    "\n",
    "conv_base = VGG16(weights = \"imagenet\",\n",
    "include_top = True,\n",
    "input_shape = (224, 224, 3))\n",
    "conv_base.summary()"
   ]
  },
  {
   "cell_type": "code",
   "execution_count": 3,
   "metadata": {},
   "outputs": [
    {
     "name": "stdout",
     "output_type": "stream",
     "text": [
      "Found 251 images belonging to 3 classes.\n",
      "Found 66 images belonging to 3 classes.\n"
     ]
    }
   ],
   "source": [
    "trainGen = datagen.flow_from_directory(\n",
    "    r'C:\\Users\\vidha\\Health Analytics\\archive\\Covid19-dataset\\train',\n",
    "    target_size = (224,224),\n",
    "    batch_size = 32,\n",
    "    shuffle = True,\n",
    "    class_mode = 'categorical'\n",
    ")\n",
    "\n",
    "datatestgen = keras.preprocessing.image.ImageDataGenerator(rescale=1 / 255.0)\n",
    "                                                       \n",
    "testGen = datatestgen.flow_from_directory(\n",
    "    r'C:\\Users\\vidha\\Health Analytics\\archive\\Covid19-dataset\\test',\n",
    "    target_size = (224,224),\n",
    "    batch_size = 32,\n",
    "    class_mode = 'categorical'\n",
    ")"
   ]
  },
  {
   "cell_type": "code",
   "execution_count": 12,
   "metadata": {},
   "outputs": [],
   "source": [
    "x = conv_base.layers[-2].output\n",
    "predictions = keras.layers.Dense(3, activation='softmax')(x)\n",
    "model = keras.models.Model(inputs = conv_base.input, outputs = predictions)"
   ]
  },
  {
   "cell_type": "code",
   "execution_count": 13,
   "metadata": {},
   "outputs": [],
   "source": [
    "for layer in conv_base.layers:\n",
    "    layer.trainable = False"
   ]
  },
  {
   "cell_type": "code",
   "execution_count": 14,
   "metadata": {},
   "outputs": [],
   "source": [
    "model.compile(optimizer='adam', loss='categorical_crossentropy', metrics=['accuracy'])"
   ]
  },
  {
   "cell_type": "code",
   "execution_count": 15,
   "metadata": {},
   "outputs": [
    {
     "name": "stdout",
     "output_type": "stream",
     "text": [
      "Epoch 1/10\n",
      "8/8 [==============================] - 49s 6s/step - loss: 1.1560 - accuracy: 0.4940 - val_loss: 1.1458 - val_accuracy: 0.6818\n",
      "Epoch 2/10\n",
      "8/8 [==============================] - 47s 6s/step - loss: 1.0081 - accuracy: 0.5777 - val_loss: 0.8095 - val_accuracy: 0.6061\n",
      "Epoch 3/10\n",
      "8/8 [==============================] - 46s 6s/step - loss: 0.7811 - accuracy: 0.6693 - val_loss: 0.7469 - val_accuracy: 0.6818\n",
      "Epoch 4/10\n",
      "8/8 [==============================] - 48s 6s/step - loss: 0.6426 - accuracy: 0.7968 - val_loss: 0.6623 - val_accuracy: 0.7273\n",
      "Epoch 5/10\n",
      "8/8 [==============================] - 48s 6s/step - loss: 0.5830 - accuracy: 0.7530 - val_loss: 0.7388 - val_accuracy: 0.6667\n",
      "Epoch 6/10\n",
      "8/8 [==============================] - 48s 6s/step - loss: 0.5816 - accuracy: 0.7888 - val_loss: 0.5646 - val_accuracy: 0.8030\n",
      "Epoch 7/10\n",
      "8/8 [==============================] - 46s 6s/step - loss: 0.5421 - accuracy: 0.8287 - val_loss: 0.5461 - val_accuracy: 0.7727\n",
      "Epoch 8/10\n",
      "8/8 [==============================] - 46s 6s/step - loss: 0.5739 - accuracy: 0.7570 - val_loss: 0.7167 - val_accuracy: 0.6667\n",
      "Epoch 9/10\n",
      "8/8 [==============================] - 47s 6s/step - loss: 0.5276 - accuracy: 0.7968 - val_loss: 0.5516 - val_accuracy: 0.7727\n",
      "Epoch 10/10\n",
      "8/8 [==============================] - 48s 6s/step - loss: 0.4901 - accuracy: 0.8167 - val_loss: 0.5374 - val_accuracy: 0.7727\n"
     ]
    },
    {
     "data": {
      "text/plain": [
       "<keras.callbacks.History at 0x27e0a83f160>"
      ]
     },
     "execution_count": 15,
     "metadata": {},
     "output_type": "execute_result"
    }
   ],
   "source": [
    "model.fit(trainGen, epochs=10, batch_size=32, validation_data = testGen)"
   ]
  },
  {
   "cell_type": "code",
   "execution_count": 8,
   "metadata": {},
   "outputs": [
    {
     "name": "stderr",
     "output_type": "stream",
     "text": [
      "WARNING:absl:Found untraced functions such as _jit_compiled_convolution_op, _jit_compiled_convolution_op, _jit_compiled_convolution_op, _jit_compiled_convolution_op, _jit_compiled_convolution_op while saving (showing 5 of 14). These functions will not be directly callable after loading.\n"
     ]
    },
    {
     "name": "stdout",
     "output_type": "stream",
     "text": [
      "INFO:tensorflow:Assets written to: VGG16FinalProjectFCL.model\\assets\n"
     ]
    },
    {
     "name": "stderr",
     "output_type": "stream",
     "text": [
      "INFO:tensorflow:Assets written to: VGG16FinalProjectFCL.model\\assets\n"
     ]
    }
   ],
   "source": [
    "model.save('VGG16FinalProjectFCL.model')"
   ]
  },
  {
   "cell_type": "code",
   "execution_count": 16,
   "metadata": {},
   "outputs": [
    {
     "name": "stdout",
     "output_type": "stream",
     "text": [
      "3/3 [==============================] - 10s 2s/step - loss: 0.5374 - accuracy: 0.7727\n"
     ]
    },
    {
     "data": {
      "text/plain": [
       "[0.5373842716217041, 0.7727272510528564]"
      ]
     },
     "execution_count": 16,
     "metadata": {},
     "output_type": "execute_result"
    }
   ],
   "source": [
    "model.evaluate(testGen, batch_size = 32)"
   ]
  },
  {
   "cell_type": "code",
   "execution_count": 17,
   "metadata": {},
   "outputs": [
    {
     "name": "stdout",
     "output_type": "stream",
     "text": [
      "8/8 [==============================] - 37s 4s/step - loss: 0.5065 - accuracy: 0.7849\n"
     ]
    },
    {
     "data": {
      "text/plain": [
       "[0.5064625144004822, 0.7848605513572693]"
      ]
     },
     "execution_count": 17,
     "metadata": {},
     "output_type": "execute_result"
    }
   ],
   "source": [
    "model.evaluate(trainGen)"
   ]
  }
 ],
 "metadata": {
  "kernelspec": {
   "display_name": "base",
   "language": "python",
   "name": "python3"
  },
  "language_info": {
   "codemirror_mode": {
    "name": "ipython",
    "version": 3
   },
   "file_extension": ".py",
   "mimetype": "text/x-python",
   "name": "python",
   "nbconvert_exporter": "python",
   "pygments_lexer": "ipython3",
   "version": "3.9.12"
  },
  "orig_nbformat": 4
 },
 "nbformat": 4,
 "nbformat_minor": 2
}
